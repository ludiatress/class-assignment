{
 "cells": [
  {
   "cell_type": "code",
   "execution_count": 17,
   "id": "830911ee",
   "metadata": {},
   "outputs": [
    {
     "name": "stdout",
     "output_type": "stream",
     "text": [
      " My name is Tressy Marion.I am 21 Year old female candidate.\n",
      "None\n",
      "Hello , Betty Ndanu\n",
      "None\n"
     ]
    }
   ],
   "source": [
    "# Question 1\n",
    "class User:\n",
    "    def __init__(self, first_name, last_name,age,gender):\n",
    "        self.firstname = first_name\n",
    "        self.lastname = last_name\n",
    "        self.age=age\n",
    "        self.gender=gender\n",
    "    def describe_user(self):\n",
    "        print(f\" My name is {self.firstname} {self.lastname}.I am {self.age} Year old {self.gender} candidate.\")\n",
    "    def greet_user(self):\n",
    "        print(f\"Hello , {self.firstname} {self.lastname}\")\n",
    "\n",
    "my_name=User('Tressy','Marion',21,'female')\n",
    "your_name=User('Betty','Ndanu',20,'female')\n",
    "print(my_name.describe_user())\n",
    "print(your_name.greet_user())\n"
   ]
  },
  {
   "cell_type": "code",
   "execution_count": 28,
   "id": "05fca83f",
   "metadata": {},
   "outputs": [
    {
     "name": "stdout",
     "output_type": "stream",
     "text": [
      "Walking on my own 2 legs.\n",
      "None\n"
     ]
    }
   ],
   "source": [
    "#question 2\n",
    "class Animal:\n",
    "    def __init__(self,eyes,legs):\n",
    "        self.eyes = eyes\n",
    "        self.legs = legs\n",
    "\n",
    "    def walk(self):\n",
    "        if self.legs:\n",
    "            print(f'Walking on my own {self.legs} legs.')\n",
    "        else:\n",
    "            print(\"Can't walk. Maybe swim!\")\n",
    "man=Animal(2,2)\n",
    "print(man.walk())"
   ]
  },
  {
   "cell_type": "code",
   "execution_count": 29,
   "id": "1bab3db5",
   "metadata": {},
   "outputs": [
    {
     "name": "stdout",
     "output_type": "stream",
     "text": [
      "Can't walk. Maybe swim!\n",
      "None\n"
     ]
    }
   ],
   "source": [
    "class fish(Animal):\n",
    "    def __init__(self,eyes,legs=0):\n",
    "        super().__init__(self,legs)\n",
    "tilapia=fish(2,)  \n",
    "print(tilapia.walk())\n",
    "        "
   ]
  },
  {
   "cell_type": "code",
   "execution_count": null,
   "id": "a7c4d936",
   "metadata": {},
   "outputs": [],
   "source": []
  }
 ],
 "metadata": {
  "kernelspec": {
   "display_name": "Python 3 (ipykernel)",
   "language": "python",
   "name": "python3"
  },
  "language_info": {
   "codemirror_mode": {
    "name": "ipython",
    "version": 3
   },
   "file_extension": ".py",
   "mimetype": "text/x-python",
   "name": "python",
   "nbconvert_exporter": "python",
   "pygments_lexer": "ipython3",
   "version": "3.9.13"
  }
 },
 "nbformat": 4,
 "nbformat_minor": 5
}
